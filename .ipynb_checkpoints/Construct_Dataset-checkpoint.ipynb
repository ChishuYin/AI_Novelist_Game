{
 "cells": [
  {
   "cell_type": "code",
   "execution_count": 1,
   "id": "d3dd8614-eab9-4ea6-9ae2-959c8048c544",
   "metadata": {},
   "outputs": [],
   "source": [
    "from pathlib import Path\n",
    "from datasets import Dataset\n",
    "import pandas as pd"
   ]
  },
  {
   "cell_type": "code",
   "execution_count": 2,
   "id": "b30da156-e97b-446e-87c8-7f79b69b1968",
   "metadata": {},
   "outputs": [],
   "source": [
    "def split_text_into_chunks(text, max_len=512):\n",
    "    chunks, chunk = [], \"\"\n",
    "    for line in text.split(\"\\n\"):\n",
    "        if not line.strip():\n",
    "            continue\n",
    "        if len(chunk) + len(line) < max_len:\n",
    "            chunk += \" \" + line.strip()\n",
    "        else:\n",
    "            chunks.append(chunk.strip())\n",
    "            chunk = line.strip()\n",
    "    if chunk:\n",
    "        chunks.append(chunk.strip())\n",
    "    return chunks\n"
   ]
  },
  {
   "cell_type": "code",
   "execution_count": 3,
   "id": "e94a5c74-45ca-49f4-a7b8-854254c5030f",
   "metadata": {},
   "outputs": [],
   "source": [
    "# 加载所有 txt 并拆分为段落\n",
    "raw_dir = Path(\"data/clean_data\")\n",
    "data = []\n",
    "\n",
    "for file in raw_dir.glob(\"*.txt\"):\n",
    "    with file.open(encoding=\"utf-8\") as f:\n",
    "        chunks = split_text_into_chunks(f.read())\n",
    "        for chunk in chunks:\n",
    "            data.append({\"text\": chunk, \"source\": file.stem})\n"
   ]
  },
  {
   "cell_type": "code",
   "execution_count": 5,
   "id": "32575828-c40f-441f-a1dc-7c043672faae",
   "metadata": {},
   "outputs": [
    {
     "data": {
      "text/plain": [
       "[]"
      ]
     },
     "execution_count": 5,
     "metadata": {},
     "output_type": "execute_result"
    }
   ],
   "source": [
    "data"
   ]
  },
  {
   "cell_type": "code",
   "execution_count": null,
   "id": "0d1915c1-96ca-41dc-a37c-72ec606a6d98",
   "metadata": {},
   "outputs": [],
   "source": []
  }
 ],
 "metadata": {
  "kernelspec": {
   "display_name": "Python 3 (ipykernel)",
   "language": "python",
   "name": "python3"
  },
  "language_info": {
   "codemirror_mode": {
    "name": "ipython",
    "version": 3
   },
   "file_extension": ".py",
   "mimetype": "text/x-python",
   "name": "python",
   "nbconvert_exporter": "python",
   "pygments_lexer": "ipython3",
   "version": "3.12.0"
  }
 },
 "nbformat": 4,
 "nbformat_minor": 5
}
