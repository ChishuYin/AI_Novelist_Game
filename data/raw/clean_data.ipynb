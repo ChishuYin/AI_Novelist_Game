{
 "cells": [
  {
   "cell_type": "code",
   "execution_count": 24,
   "id": "6b60abb2-64e5-44a2-9405-cfe88f5cb8d9",
   "metadata": {},
   "outputs": [],
   "source": [
    "import re\n",
    "\n",
    "# 读取原始小说\n",
    "with open(\"倚天屠龙记.txt\", \"r\", encoding=\"utf-8\") as f:\n",
    "    text = f.read()\n",
    "\n",
    "# 1. 去掉 BOM 或开头奇怪符号\n",
    "text = text.replace('\\ufeff', '')\n",
    "\n",
    " # 去除多余空行\n",
    "text = re.sub(r'\\n{2,}', '\\n\\n', text)\n",
    "\n",
    "\n",
    "# 定义统一支持多种章节格式的正则\n",
    "pattern = r\"(第[\\d一二三四五六七八九十百千万零〇]+\\s*[章节回卷].*|[一二三四五六七八九十百千万零〇]{1,5}[\\s\\u3000]+.+)\"\n",
    "\n",
    "\n",
    "# 替换并添加 Markdown 样式章节标题\n",
    "text = re.sub(pattern, r'\\n\\n### \\g<0>\\n\\n', text)\n",
    "\n",
    "\n",
    "\n",
    "# 2. 去掉多余空行和首尾空格\n",
    "lines = [line.strip() for line in text.splitlines() if line.strip()]\n",
    "cleaned_text = '\\n'.join(lines)\n",
    "\n",
    "\n",
    "\n",
    "\n",
    "# 保存清洗后的小说\n",
    "with open(\"倚天屠龙记_cleaned.txt\", \"w\", encoding=\"utf-8\") as f:\n",
    "    f.write(cleaned_text)\n"
   ]
  },
  {
   "cell_type": "code",
   "execution_count": 28,
   "id": "886b09f9-bd8d-4f96-b3da-8bf8688fa8be",
   "metadata": {},
   "outputs": [],
   "source": [
    "# 读取原始小说\n",
    "with open(\"笑傲江湖.txt\", \"r\", encoding=\"utf-8\") as f:\n",
    "    text = f.read()\n",
    "\n",
    "# 1. 去掉 BOM 或开头奇怪符号\n",
    "text = text.replace('\\ufeff', '')\n",
    "\n",
    "def mark_chinese_chapter_titles(text):\n",
    "    # 匹配章节标题，如 “一　灭门” / “三 起事” / “五\\t再战”\n",
    "    pattern = r\"(^|\\n)([一二三四五六七八九十百千万零〇]{1,5})[\\s\\u3000]+(.+)\"\n",
    "    return re.sub(pattern, r\"\\1\\n\\n### \\2 \\3\\n\\n\", text)\n",
    "\n",
    "# 2. 去掉多余空行和首尾空格\n",
    "lines = [line.strip() for line in text.splitlines() if line.strip()]\n",
    "cleaned_text = '\\n'.join(lines)\n",
    "\n",
    "\n",
    "\n",
    "\n",
    "# 保存清洗后的小说\n",
    "with open(\"笑傲江湖_cleaned.txt\", \"w\", encoding=\"utf-8\") as f:\n",
    "    f.write(cleaned_text)\n"
   ]
  },
  {
   "cell_type": "code",
   "execution_count": 26,
   "id": "d733a886-6a32-4ba8-b722-8c340f3839d7",
   "metadata": {},
   "outputs": [],
   "source": [
    "# 读取原始小说\n",
    "with open(\"天龙八部.txt\", \"r\", encoding=\"utf-8\") as f:\n",
    "    text = f.read()\n",
    "\n",
    "# 1. 去掉 BOM 或开头奇怪符号\n",
    "text = text.replace('\\ufeff', '')\n",
    "\n",
    "# 2. 去掉多余空行和首尾空格\n",
    "lines = [line.strip() for line in text.splitlines() if line.strip()]\n",
    "cleaned_text = '\\n'.join(lines)\n",
    "\n",
    "# 定义统一支持多种章节格式的正则\n",
    "pattern = r\"(第[\\d一二三四五六七八九十百千万零〇]+\\s*[章节回卷].*|[一二三四五六七八九十百千万零〇]{1,5}[\\s\\u3000]+.+)\"\n",
    "\n",
    "\n",
    "# 替换并添加 Markdown 样式章节标题\n",
    "text = re.sub(pattern, r'\\n\\n### \\g<0>\\n\\n', text)\n",
    "\n",
    "\n",
    "\n",
    "# 保存清洗后的小说\n",
    "with open(\"天龙八部_cleaned.txt\", \"w\", encoding=\"utf-8\") as f:\n",
    "    f.write(cleaned_text)\n"
   ]
  },
  {
   "cell_type": "code",
   "execution_count": null,
   "id": "381638a9-e8c5-4be7-bc53-1d41084d84fc",
   "metadata": {},
   "outputs": [],
   "source": []
  }
 ],
 "metadata": {
  "kernelspec": {
   "display_name": "Python 3 (ipykernel)",
   "language": "python",
   "name": "python3"
  },
  "language_info": {
   "codemirror_mode": {
    "name": "ipython",
    "version": 3
   },
   "file_extension": ".py",
   "mimetype": "text/x-python",
   "name": "python",
   "nbconvert_exporter": "python",
   "pygments_lexer": "ipython3",
   "version": "3.12.0"
  }
 },
 "nbformat": 4,
 "nbformat_minor": 5
}
